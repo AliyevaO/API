{
 "cells": [
  {
   "cell_type": "markdown",
   "id": "ffe144cb",
   "metadata": {},
   "source": [
    "* Oleksandra Aliyeva\n",
    "* April 2022\n",
    "* Find sushi in Boston"
   ]
  },
  {
   "cell_type": "code",
   "execution_count": 1,
   "id": "ca8057d4",
   "metadata": {},
   "outputs": [],
   "source": [
    "#import libraries\n",
    "import pandas as pd\n",
    "import numpy as np\n",
    "\n",
    "import os, json, math, time\n",
    "from yelpapi import YelpAPI\n",
    "from tqdm.notebook import tqdm_notebook"
   ]
  },
  {
   "cell_type": "code",
   "execution_count": 2,
   "id": "f5e5450d",
   "metadata": {},
   "outputs": [],
   "source": [
    "#load API credentials\n",
    "with open('/Users/oleksandraaliyeva/.secret/yelp_api.json') as f: \n",
    "    login = json.load(f)\n",
    "#instantiate YelpAPI variable\n",
    "yelp_api = YelpAPI(login['api-key'], timeout_s=5.0)"
   ]
  },
  {
   "cell_type": "code",
   "execution_count": 3,
   "id": "e3b6b0ad",
   "metadata": {},
   "outputs": [],
   "source": [
    "#set API call parameters and filename before the first call\n",
    "LOCATION = 'Boston, MA, 02101'\n",
    "TERM = 'Sushi'"
   ]
  },
  {
   "cell_type": "code",
   "execution_count": 5,
   "id": "4d6700f6",
   "metadata": {},
   "outputs": [
    {
     "data": {
      "text/plain": [
       "'Yelp/results_in_progress_Sushi.json'"
      ]
     },
     "execution_count": 5,
     "metadata": {},
     "output_type": "execute_result"
    }
   ],
   "source": [
    "#specifying JSON_FILE filename\n",
    "JSON_FILE = f'Yelp/results_in_progress_Sushi.json'\n",
    "JSON_FILE "
   ]
  },
  {
   "cell_type": "code",
   "execution_count": 6,
   "id": "7a5016f1",
   "metadata": {},
   "outputs": [
    {
     "name": "stdout",
     "output_type": "stream",
     "text": [
      "[i] Yelp/results_in_progress_Sushi.json not found. Saving empty list to file.\n"
     ]
    }
   ],
   "source": [
    "#check if JSON_FILE exists\n",
    "file_exists = os.path.isfile(JSON_FILE)\n",
    "#if it does not exist: \n",
    "if file_exists == False:\n",
    "    folder = os.path.dirname(JSON_FILE)\n",
    "    #if JSON_FILE included a folder:\n",
    "    if len(folder)>0:\n",
    "    #create the folder\n",
    "        os.makedirs(folder, exist_ok = True)\n",
    "    \n",
    "     #INFORM USER AND SAVE EMPTY LIST\n",
    "    print(f\"[i] {JSON_FILE} not found. Saving empty list to file.\")\n",
    "    \n",
    "     #save the first page of results\n",
    "    with open(JSON_FILE,'w') as f:\n",
    "        json.dump([],f)  \n",
    "#if it exists, inform user\n",
    "else:\n",
    "    print(f\"[i] {JSON_FILE} already exists.\")"
   ]
  },
  {
   "cell_type": "code",
   "execution_count": 7,
   "id": "fc80b621",
   "metadata": {},
   "outputs": [
    {
     "name": "stdout",
     "output_type": "stream",
     "text": [
      "- 0 previous results found.\n"
     ]
    }
   ],
   "source": [
    "#load previous results and use len of results for offset\n",
    "with open (JSON_FILE,'r') as f:\n",
    "    previous_results = json.load(f)\n",
    "    \n",
    "#set offset based on previous results\n",
    "n_results = len(previous_results)\n",
    "print(f'- {n_results} previous results found.')"
   ]
  },
  {
   "cell_type": "code",
   "execution_count": 8,
   "id": "a5a1b7fe",
   "metadata": {},
   "outputs": [
    {
     "data": {
      "text/plain": [
       "dict_keys(['businesses', 'total', 'region'])"
      ]
     },
     "execution_count": 8,
     "metadata": {},
     "output_type": "execute_result"
    }
   ],
   "source": [
    "#use yelp_api variable's search_query method to perform our API call\n",
    "results = yelp_api.search_query(location=LOCATION,\n",
    "                               term=TERM,\n",
    "                               offset=n_results+1)\n",
    "results.keys()"
   ]
  },
  {
   "cell_type": "code",
   "execution_count": 9,
   "id": "d19331ae",
   "metadata": {},
   "outputs": [
    {
     "data": {
      "text/plain": [
       "640"
      ]
     },
     "execution_count": 9,
     "metadata": {},
     "output_type": "execute_result"
    }
   ],
   "source": [
    "#how many results total?\n",
    "total_results = results['total']\n",
    "total_results"
   ]
  },
  {
   "cell_type": "code",
   "execution_count": 10,
   "id": "ab59d658",
   "metadata": {},
   "outputs": [
    {
     "data": {
      "text/plain": [
       "20"
      ]
     },
     "execution_count": 10,
     "metadata": {},
     "output_type": "execute_result"
    }
   ],
   "source": [
    "#how many did we get the details for?\n",
    "results_per_page = len(results['businesses'])\n",
    "results_per_page"
   ]
  },
  {
   "cell_type": "code",
   "execution_count": 11,
   "id": "fa67419e",
   "metadata": {},
   "outputs": [
    {
     "data": {
      "text/plain": [
       "32"
      ]
     },
     "execution_count": 11,
     "metadata": {},
     "output_type": "execute_result"
    }
   ],
   "source": [
    "#use math.ceil to round up for the total number of pages of results.\n",
    "n_pages = math.ceil((results['total']-n_results)/results_per_page)\n",
    "n_pages"
   ]
  },
  {
   "cell_type": "code",
   "execution_count": 12,
   "id": "b6034adb",
   "metadata": {},
   "outputs": [],
   "source": [
    "#join new results with old list with extend and save to file\n",
    "previous_results.extend(results['businesses'])\n",
    "with open(JSON_FILE,'w') as f:\n",
    "    json.dump(previous_results,f)"
   ]
  },
  {
   "cell_type": "code",
   "execution_count": 13,
   "id": "3398befb",
   "metadata": {},
   "outputs": [
    {
     "data": {
      "application/vnd.jupyter.widget-view+json": {
       "model_id": "c80aa8ee57714104ac131a7bb5625fa8",
       "version_major": 2,
       "version_minor": 0
      },
      "text/plain": [
       "  0%|          | 0/32 [00:00<?, ?it/s]"
      ]
     },
     "metadata": {},
     "output_type": "display_data"
    }
   ],
   "source": [
    "for i in tqdm_notebook( range(1,n_pages+1)):\n",
    "    time.sleep(.2)\n",
    "    #read in results in progress file and check the length\n",
    "    with open(JSON_FILE, 'r') as f:\n",
    "        previous_results = json.load(f)\n",
    "    #save number of results for to use as offset\n",
    "    n_results = len(previous_results)\n",
    "    #use n_results as the OFFSET \n",
    "    results = yelp_api.search_query(location=LOCATION,\n",
    "                                    term=TERM, \n",
    "                                    offset=n_results+1)\n",
    "    \n",
    "    #append new results and save to file\n",
    "    previous_results.extend(results['businesses'])\n",
    "    \n",
    "    #display(previous_results)\n",
    "    with open(JSON_FILE,'w') as f:\n",
    "        json.dump(previous_results,f)"
   ]
  },
  {
   "cell_type": "code",
   "execution_count": 14,
   "id": "d2dbe587",
   "metadata": {},
   "outputs": [
    {
     "data": {
      "text/html": [
       "<div>\n",
       "<style scoped>\n",
       "    .dataframe tbody tr th:only-of-type {\n",
       "        vertical-align: middle;\n",
       "    }\n",
       "\n",
       "    .dataframe tbody tr th {\n",
       "        vertical-align: top;\n",
       "    }\n",
       "\n",
       "    .dataframe thead th {\n",
       "        text-align: right;\n",
       "    }\n",
       "</style>\n",
       "<table border=\"1\" class=\"dataframe\">\n",
       "  <thead>\n",
       "    <tr style=\"text-align: right;\">\n",
       "      <th></th>\n",
       "      <th>id</th>\n",
       "      <th>alias</th>\n",
       "      <th>name</th>\n",
       "      <th>image_url</th>\n",
       "      <th>is_closed</th>\n",
       "      <th>url</th>\n",
       "      <th>review_count</th>\n",
       "      <th>categories</th>\n",
       "      <th>rating</th>\n",
       "      <th>coordinates</th>\n",
       "      <th>transactions</th>\n",
       "      <th>price</th>\n",
       "      <th>location</th>\n",
       "      <th>phone</th>\n",
       "      <th>display_phone</th>\n",
       "      <th>distance</th>\n",
       "    </tr>\n",
       "  </thead>\n",
       "  <tbody>\n",
       "    <tr>\n",
       "      <th>0</th>\n",
       "      <td>E3Qqa99qFy1oeGMv0wPBBQ</td>\n",
       "      <td>tora-japanese-restaurant-boston</td>\n",
       "      <td>Tora Japanese Restaurant</td>\n",
       "      <td>https://s3-media3.fl.yelpcdn.com/bphoto/ZdaYpg...</td>\n",
       "      <td>False</td>\n",
       "      <td>https://www.yelp.com/biz/tora-japanese-restaur...</td>\n",
       "      <td>553</td>\n",
       "      <td>[{'alias': 'japanese', 'title': 'Japanese'}, {...</td>\n",
       "      <td>4.5</td>\n",
       "      <td>{'latitude': 42.35076, 'longitude': -71.06054}</td>\n",
       "      <td>[pickup, delivery]</td>\n",
       "      <td>$$</td>\n",
       "      <td>{'address1': '20B Tyler St', 'address2': None,...</td>\n",
       "      <td>+16175426688</td>\n",
       "      <td>(617) 542-6688</td>\n",
       "      <td>934.549817</td>\n",
       "    </tr>\n",
       "    <tr>\n",
       "      <th>1</th>\n",
       "      <td>Z6Io2AbJrof7TPVliMZkAg</td>\n",
       "      <td>fuji-at-ink-block-boston</td>\n",
       "      <td>Fuji at Ink Block</td>\n",
       "      <td>https://s3-media2.fl.yelpcdn.com/bphoto/xhHJpc...</td>\n",
       "      <td>False</td>\n",
       "      <td>https://www.yelp.com/biz/fuji-at-ink-block-bos...</td>\n",
       "      <td>543</td>\n",
       "      <td>[{'alias': 'japanese', 'title': 'Japanese'}, {...</td>\n",
       "      <td>4.5</td>\n",
       "      <td>{'latitude': 42.345077, 'longitude': -71.063505}</td>\n",
       "      <td>[pickup, delivery, restaurant_reservation]</td>\n",
       "      <td>$$</td>\n",
       "      <td>{'address1': '352 Harrison Ave', 'address2': '...</td>\n",
       "      <td>+16179363282</td>\n",
       "      <td>(617) 936-3282</td>\n",
       "      <td>706.357329</td>\n",
       "    </tr>\n",
       "    <tr>\n",
       "      <th>2</th>\n",
       "      <td>baoHJnYFntDUICr10aFj8Q</td>\n",
       "      <td>sakana-cambridge-2</td>\n",
       "      <td>Sakana</td>\n",
       "      <td>https://s3-media1.fl.yelpcdn.com/bphoto/wb4xhJ...</td>\n",
       "      <td>False</td>\n",
       "      <td>https://www.yelp.com/biz/sakana-cambridge-2?ad...</td>\n",
       "      <td>242</td>\n",
       "      <td>[{'alias': 'sushi', 'title': 'Sushi Bars'}, {'...</td>\n",
       "      <td>4.5</td>\n",
       "      <td>{'latitude': 42.3693, 'longitude': -71.11082}</td>\n",
       "      <td>[pickup, delivery]</td>\n",
       "      <td>$$</td>\n",
       "      <td>{'address1': '983 Massachusetts Ave', 'address...</td>\n",
       "      <td>+16177144646</td>\n",
       "      <td>(617) 714-4646</td>\n",
       "      <td>4030.346045</td>\n",
       "    </tr>\n",
       "    <tr>\n",
       "      <th>3</th>\n",
       "      <td>87f7kR7nTz8WHnmtLM_S6w</td>\n",
       "      <td>o-ya-boston</td>\n",
       "      <td>O Ya</td>\n",
       "      <td>https://s3-media4.fl.yelpcdn.com/bphoto/XdZZEb...</td>\n",
       "      <td>False</td>\n",
       "      <td>https://www.yelp.com/biz/o-ya-boston?adjust_cr...</td>\n",
       "      <td>756</td>\n",
       "      <td>[{'alias': 'japanese', 'title': 'Japanese'}]</td>\n",
       "      <td>4.5</td>\n",
       "      <td>{'latitude': 42.3514083135866, 'longitude': -7...</td>\n",
       "      <td>[delivery]</td>\n",
       "      <td>$$$$</td>\n",
       "      <td>{'address1': '9 East St Pl', 'address2': '', '...</td>\n",
       "      <td>+16176549900</td>\n",
       "      <td>(617) 654-9900</td>\n",
       "      <td>1246.235064</td>\n",
       "    </tr>\n",
       "    <tr>\n",
       "      <th>4</th>\n",
       "      <td>n0NNUVwW-wEKc433oKZX5A</td>\n",
       "      <td>kura-revolving-sushi-bar-watertown</td>\n",
       "      <td>Kura Revolving Sushi Bar</td>\n",
       "      <td>https://s3-media3.fl.yelpcdn.com/bphoto/wluC7r...</td>\n",
       "      <td>False</td>\n",
       "      <td>https://www.yelp.com/biz/kura-revolving-sushi-...</td>\n",
       "      <td>71</td>\n",
       "      <td>[{'alias': 'sushi', 'title': 'Sushi Bars'}, {'...</td>\n",
       "      <td>4.0</td>\n",
       "      <td>{'latitude': 42.3604231, 'longitude': -71.1898...</td>\n",
       "      <td>[]</td>\n",
       "      <td>NaN</td>\n",
       "      <td>{'address1': '101 Bond St', 'address2': '', 'a...</td>\n",
       "      <td>+16176757575</td>\n",
       "      <td>(617) 675-7575</td>\n",
       "      <td>7446.723594</td>\n",
       "    </tr>\n",
       "  </tbody>\n",
       "</table>\n",
       "</div>"
      ],
      "text/plain": [
       "                       id                               alias  \\\n",
       "0  E3Qqa99qFy1oeGMv0wPBBQ     tora-japanese-restaurant-boston   \n",
       "1  Z6Io2AbJrof7TPVliMZkAg            fuji-at-ink-block-boston   \n",
       "2  baoHJnYFntDUICr10aFj8Q                  sakana-cambridge-2   \n",
       "3  87f7kR7nTz8WHnmtLM_S6w                         o-ya-boston   \n",
       "4  n0NNUVwW-wEKc433oKZX5A  kura-revolving-sushi-bar-watertown   \n",
       "\n",
       "                       name  \\\n",
       "0  Tora Japanese Restaurant   \n",
       "1         Fuji at Ink Block   \n",
       "2                    Sakana   \n",
       "3                      O Ya   \n",
       "4  Kura Revolving Sushi Bar   \n",
       "\n",
       "                                           image_url  is_closed  \\\n",
       "0  https://s3-media3.fl.yelpcdn.com/bphoto/ZdaYpg...      False   \n",
       "1  https://s3-media2.fl.yelpcdn.com/bphoto/xhHJpc...      False   \n",
       "2  https://s3-media1.fl.yelpcdn.com/bphoto/wb4xhJ...      False   \n",
       "3  https://s3-media4.fl.yelpcdn.com/bphoto/XdZZEb...      False   \n",
       "4  https://s3-media3.fl.yelpcdn.com/bphoto/wluC7r...      False   \n",
       "\n",
       "                                                 url  review_count  \\\n",
       "0  https://www.yelp.com/biz/tora-japanese-restaur...           553   \n",
       "1  https://www.yelp.com/biz/fuji-at-ink-block-bos...           543   \n",
       "2  https://www.yelp.com/biz/sakana-cambridge-2?ad...           242   \n",
       "3  https://www.yelp.com/biz/o-ya-boston?adjust_cr...           756   \n",
       "4  https://www.yelp.com/biz/kura-revolving-sushi-...            71   \n",
       "\n",
       "                                          categories  rating  \\\n",
       "0  [{'alias': 'japanese', 'title': 'Japanese'}, {...     4.5   \n",
       "1  [{'alias': 'japanese', 'title': 'Japanese'}, {...     4.5   \n",
       "2  [{'alias': 'sushi', 'title': 'Sushi Bars'}, {'...     4.5   \n",
       "3       [{'alias': 'japanese', 'title': 'Japanese'}]     4.5   \n",
       "4  [{'alias': 'sushi', 'title': 'Sushi Bars'}, {'...     4.0   \n",
       "\n",
       "                                         coordinates  \\\n",
       "0     {'latitude': 42.35076, 'longitude': -71.06054}   \n",
       "1   {'latitude': 42.345077, 'longitude': -71.063505}   \n",
       "2      {'latitude': 42.3693, 'longitude': -71.11082}   \n",
       "3  {'latitude': 42.3514083135866, 'longitude': -7...   \n",
       "4  {'latitude': 42.3604231, 'longitude': -71.1898...   \n",
       "\n",
       "                                 transactions price  \\\n",
       "0                          [pickup, delivery]    $$   \n",
       "1  [pickup, delivery, restaurant_reservation]    $$   \n",
       "2                          [pickup, delivery]    $$   \n",
       "3                                  [delivery]  $$$$   \n",
       "4                                          []   NaN   \n",
       "\n",
       "                                            location         phone  \\\n",
       "0  {'address1': '20B Tyler St', 'address2': None,...  +16175426688   \n",
       "1  {'address1': '352 Harrison Ave', 'address2': '...  +16179363282   \n",
       "2  {'address1': '983 Massachusetts Ave', 'address...  +16177144646   \n",
       "3  {'address1': '9 East St Pl', 'address2': '', '...  +16176549900   \n",
       "4  {'address1': '101 Bond St', 'address2': '', 'a...  +16176757575   \n",
       "\n",
       "    display_phone     distance  \n",
       "0  (617) 542-6688   934.549817  \n",
       "1  (617) 936-3282   706.357329  \n",
       "2  (617) 714-4646  4030.346045  \n",
       "3  (617) 654-9900  1246.235064  \n",
       "4  (617) 675-7575  7446.723594  "
      ]
     },
     "metadata": {},
     "output_type": "display_data"
    },
    {
     "data": {
      "text/html": [
       "<div>\n",
       "<style scoped>\n",
       "    .dataframe tbody tr th:only-of-type {\n",
       "        vertical-align: middle;\n",
       "    }\n",
       "\n",
       "    .dataframe tbody tr th {\n",
       "        vertical-align: top;\n",
       "    }\n",
       "\n",
       "    .dataframe thead th {\n",
       "        text-align: right;\n",
       "    }\n",
       "</style>\n",
       "<table border=\"1\" class=\"dataframe\">\n",
       "  <thead>\n",
       "    <tr style=\"text-align: right;\">\n",
       "      <th></th>\n",
       "      <th>id</th>\n",
       "      <th>alias</th>\n",
       "      <th>name</th>\n",
       "      <th>image_url</th>\n",
       "      <th>is_closed</th>\n",
       "      <th>url</th>\n",
       "      <th>review_count</th>\n",
       "      <th>categories</th>\n",
       "      <th>rating</th>\n",
       "      <th>coordinates</th>\n",
       "      <th>transactions</th>\n",
       "      <th>price</th>\n",
       "      <th>location</th>\n",
       "      <th>phone</th>\n",
       "      <th>display_phone</th>\n",
       "      <th>distance</th>\n",
       "    </tr>\n",
       "  </thead>\n",
       "  <tbody>\n",
       "    <tr>\n",
       "      <th>634</th>\n",
       "      <td>RWg7d4FkfoVpjTX6FddwRA</td>\n",
       "      <td>whole-foods-market-newton-4</td>\n",
       "      <td>Whole Foods Market</td>\n",
       "      <td>https://s3-media1.fl.yelpcdn.com/bphoto/GW-Zjr...</td>\n",
       "      <td>False</td>\n",
       "      <td>https://www.yelp.com/biz/whole-foods-market-ne...</td>\n",
       "      <td>56</td>\n",
       "      <td>[{'alias': 'grocery', 'title': 'Grocery'}, {'a...</td>\n",
       "      <td>2.5</td>\n",
       "      <td>{'latitude': 42.330017, 'longitude': -71.206397}</td>\n",
       "      <td>[]</td>\n",
       "      <td>$$$</td>\n",
       "      <td>{'address1': '916 Walnut St', 'address2': '', ...</td>\n",
       "      <td>+16179691141</td>\n",
       "      <td>(617) 969-1141</td>\n",
       "      <td>11284.020874</td>\n",
       "    </tr>\n",
       "    <tr>\n",
       "      <th>635</th>\n",
       "      <td>wnEKFzVreBVOX2jANrTDsQ</td>\n",
       "      <td>star-market-brighton</td>\n",
       "      <td>Star Market</td>\n",
       "      <td>https://s3-media3.fl.yelpcdn.com/bphoto/I9FPl0...</td>\n",
       "      <td>False</td>\n",
       "      <td>https://www.yelp.com/biz/star-market-brighton?...</td>\n",
       "      <td>77</td>\n",
       "      <td>[{'alias': 'grocery', 'title': 'Grocery'}]</td>\n",
       "      <td>2.5</td>\n",
       "      <td>{'latitude': 42.360928, 'longitude': -71.1375412}</td>\n",
       "      <td>[delivery]</td>\n",
       "      <td>$$</td>\n",
       "      <td>{'address1': '370 Western Ave', 'address2': ''...</td>\n",
       "      <td>+16177875266</td>\n",
       "      <td>(617) 787-5266</td>\n",
       "      <td>5638.822604</td>\n",
       "    </tr>\n",
       "    <tr>\n",
       "      <th>636</th>\n",
       "      <td>tZV72RPEG2E24uFulcGjVg</td>\n",
       "      <td>star-market-auburndale</td>\n",
       "      <td>Star Market</td>\n",
       "      <td>https://s3-media4.fl.yelpcdn.com/bphoto/p4SlaX...</td>\n",
       "      <td>False</td>\n",
       "      <td>https://www.yelp.com/biz/star-market-auburndal...</td>\n",
       "      <td>40</td>\n",
       "      <td>[{'alias': 'grocery', 'title': 'Grocery'}]</td>\n",
       "      <td>2.0</td>\n",
       "      <td>{'latitude': 42.3467438, 'longitude': -71.2447...</td>\n",
       "      <td>[delivery]</td>\n",
       "      <td>$$</td>\n",
       "      <td>{'address1': '2040 Commonwealth Ave', 'address...</td>\n",
       "      <td>+16179651793</td>\n",
       "      <td>(617) 965-1793</td>\n",
       "      <td>14258.843346</td>\n",
       "    </tr>\n",
       "    <tr>\n",
       "      <th>637</th>\n",
       "      <td>m6ZCINThm8PwkK91qJcrPw</td>\n",
       "      <td>trader-joes-arlington</td>\n",
       "      <td>Trader Joe's</td>\n",
       "      <td>https://s3-media1.fl.yelpcdn.com/bphoto/KwDTvS...</td>\n",
       "      <td>False</td>\n",
       "      <td>https://www.yelp.com/biz/trader-joes-arlington...</td>\n",
       "      <td>96</td>\n",
       "      <td>[{'alias': 'grocery', 'title': 'Grocery'}]</td>\n",
       "      <td>3.5</td>\n",
       "      <td>{'latitude': 42.4254178, 'longitude': -71.1888...</td>\n",
       "      <td>[]</td>\n",
       "      <td>$$</td>\n",
       "      <td>{'address1': '1427 Massachusetts Ave', 'addres...</td>\n",
       "      <td>+17816469138</td>\n",
       "      <td>(781) 646-9138</td>\n",
       "      <td>12948.424375</td>\n",
       "    </tr>\n",
       "    <tr>\n",
       "      <th>638</th>\n",
       "      <td>MpfauJengAZHTzoIkwP_yw</td>\n",
       "      <td>the-cheesecake-factory-burlington</td>\n",
       "      <td>The Cheesecake Factory</td>\n",
       "      <td>https://s3-media1.fl.yelpcdn.com/bphoto/95h89v...</td>\n",
       "      <td>False</td>\n",
       "      <td>https://www.yelp.com/biz/the-cheesecake-factor...</td>\n",
       "      <td>529</td>\n",
       "      <td>[{'alias': 'desserts', 'title': 'Desserts'}, {...</td>\n",
       "      <td>3.0</td>\n",
       "      <td>{'latitude': 42.4822898, 'longitude': -71.2135...</td>\n",
       "      <td>[restaurant_reservation, delivery]</td>\n",
       "      <td>$$</td>\n",
       "      <td>{'address1': '75 Middlesex Turnpike', 'address...</td>\n",
       "      <td>+17812730060</td>\n",
       "      <td>(781) 273-0060</td>\n",
       "      <td>18972.757453</td>\n",
       "    </tr>\n",
       "  </tbody>\n",
       "</table>\n",
       "</div>"
      ],
      "text/plain": [
       "                         id                              alias  \\\n",
       "634  RWg7d4FkfoVpjTX6FddwRA        whole-foods-market-newton-4   \n",
       "635  wnEKFzVreBVOX2jANrTDsQ               star-market-brighton   \n",
       "636  tZV72RPEG2E24uFulcGjVg             star-market-auburndale   \n",
       "637  m6ZCINThm8PwkK91qJcrPw              trader-joes-arlington   \n",
       "638  MpfauJengAZHTzoIkwP_yw  the-cheesecake-factory-burlington   \n",
       "\n",
       "                       name  \\\n",
       "634      Whole Foods Market   \n",
       "635             Star Market   \n",
       "636             Star Market   \n",
       "637            Trader Joe's   \n",
       "638  The Cheesecake Factory   \n",
       "\n",
       "                                             image_url  is_closed  \\\n",
       "634  https://s3-media1.fl.yelpcdn.com/bphoto/GW-Zjr...      False   \n",
       "635  https://s3-media3.fl.yelpcdn.com/bphoto/I9FPl0...      False   \n",
       "636  https://s3-media4.fl.yelpcdn.com/bphoto/p4SlaX...      False   \n",
       "637  https://s3-media1.fl.yelpcdn.com/bphoto/KwDTvS...      False   \n",
       "638  https://s3-media1.fl.yelpcdn.com/bphoto/95h89v...      False   \n",
       "\n",
       "                                                   url  review_count  \\\n",
       "634  https://www.yelp.com/biz/whole-foods-market-ne...            56   \n",
       "635  https://www.yelp.com/biz/star-market-brighton?...            77   \n",
       "636  https://www.yelp.com/biz/star-market-auburndal...            40   \n",
       "637  https://www.yelp.com/biz/trader-joes-arlington...            96   \n",
       "638  https://www.yelp.com/biz/the-cheesecake-factor...           529   \n",
       "\n",
       "                                            categories  rating  \\\n",
       "634  [{'alias': 'grocery', 'title': 'Grocery'}, {'a...     2.5   \n",
       "635         [{'alias': 'grocery', 'title': 'Grocery'}]     2.5   \n",
       "636         [{'alias': 'grocery', 'title': 'Grocery'}]     2.0   \n",
       "637         [{'alias': 'grocery', 'title': 'Grocery'}]     3.5   \n",
       "638  [{'alias': 'desserts', 'title': 'Desserts'}, {...     3.0   \n",
       "\n",
       "                                           coordinates  \\\n",
       "634   {'latitude': 42.330017, 'longitude': -71.206397}   \n",
       "635  {'latitude': 42.360928, 'longitude': -71.1375412}   \n",
       "636  {'latitude': 42.3467438, 'longitude': -71.2447...   \n",
       "637  {'latitude': 42.4254178, 'longitude': -71.1888...   \n",
       "638  {'latitude': 42.4822898, 'longitude': -71.2135...   \n",
       "\n",
       "                           transactions price  \\\n",
       "634                                  []   $$$   \n",
       "635                          [delivery]    $$   \n",
       "636                          [delivery]    $$   \n",
       "637                                  []    $$   \n",
       "638  [restaurant_reservation, delivery]    $$   \n",
       "\n",
       "                                              location         phone  \\\n",
       "634  {'address1': '916 Walnut St', 'address2': '', ...  +16179691141   \n",
       "635  {'address1': '370 Western Ave', 'address2': ''...  +16177875266   \n",
       "636  {'address1': '2040 Commonwealth Ave', 'address...  +16179651793   \n",
       "637  {'address1': '1427 Massachusetts Ave', 'addres...  +17816469138   \n",
       "638  {'address1': '75 Middlesex Turnpike', 'address...  +17812730060   \n",
       "\n",
       "      display_phone      distance  \n",
       "634  (617) 969-1141  11284.020874  \n",
       "635  (617) 787-5266   5638.822604  \n",
       "636  (617) 965-1793  14258.843346  \n",
       "637  (781) 646-9138  12948.424375  \n",
       "638  (781) 273-0060  18972.757453  "
      ]
     },
     "metadata": {},
     "output_type": "display_data"
    }
   ],
   "source": [
    "#load final results\n",
    "final_df = pd.read_json(JSON_FILE)\n",
    "display(final_df.head(3), final_df.tail(3))"
   ]
  },
  {
   "cell_type": "code",
   "execution_count": 15,
   "id": "887ac778",
   "metadata": {},
   "outputs": [
    {
     "data": {
      "text/plain": [
       "1"
      ]
     },
     "execution_count": 15,
     "metadata": {},
     "output_type": "execute_result"
    }
   ],
   "source": [
    "#check for duplicate IDs\n",
    "final_df.duplicated(subset='id').sum()"
   ]
  },
  {
   "cell_type": "code",
   "execution_count": 16,
   "id": "2a2ab861",
   "metadata": {},
   "outputs": [],
   "source": [
    "final_df.drop_duplicates(subset='id', keep='first', inplace = True)"
   ]
  },
  {
   "cell_type": "code",
   "execution_count": 17,
   "id": "99f37a3f",
   "metadata": {},
   "outputs": [
    {
     "data": {
      "text/plain": [
       "0"
      ]
     },
     "execution_count": 17,
     "metadata": {},
     "output_type": "execute_result"
    }
   ],
   "source": [
    "final_df.duplicated(subset='id').sum()"
   ]
  },
  {
   "cell_type": "code",
   "execution_count": 18,
   "id": "67240763",
   "metadata": {},
   "outputs": [],
   "source": [
    "# save the final results to a compressed csv\n",
    "final_df.to_csv('Yelp/final_results_sushi.csv.gz', compression='gzip',\n",
    "                index=False)"
   ]
  }
 ],
 "metadata": {
  "kernelspec": {
   "display_name": "Python (dojo-env)",
   "language": "python",
   "name": "dojo-env"
  },
  "language_info": {
   "codemirror_mode": {
    "name": "ipython",
    "version": 3
   },
   "file_extension": ".py",
   "mimetype": "text/x-python",
   "name": "python",
   "nbconvert_exporter": "python",
   "pygments_lexer": "ipython3",
   "version": "3.7.12"
  },
  "toc": {
   "base_numbering": 1,
   "nav_menu": {},
   "number_sections": true,
   "sideBar": true,
   "skip_h1_title": false,
   "title_cell": "Table of Contents",
   "title_sidebar": "Contents",
   "toc_cell": false,
   "toc_position": {},
   "toc_section_display": true,
   "toc_window_display": false
  }
 },
 "nbformat": 4,
 "nbformat_minor": 5
}
