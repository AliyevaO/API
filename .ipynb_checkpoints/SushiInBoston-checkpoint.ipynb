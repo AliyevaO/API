{
 "cells": [
  {
   "cell_type": "markdown",
   "id": "ffe144cb",
   "metadata": {},
   "source": [
    "* Oleksandra Aliyeva\n",
    "* April 2022\n",
    "* Find sushi in Boston"
   ]
  },
  {
   "cell_type": "code",
   "execution_count": 20,
   "id": "ca8057d4",
   "metadata": {},
   "outputs": [],
   "source": [
    "#import libraries\n",
    "import pandas as pd\n",
    "import numpy as np\n",
    "\n",
    "import os, json, math, time\n",
    "from yelpapi import YelpAPI\n",
    "from tqdm.notebook import tqdm_notebook"
   ]
  },
  {
   "cell_type": "code",
   "execution_count": 21,
   "id": "f5e5450d",
   "metadata": {},
   "outputs": [],
   "source": [
    "#load API credentials\n",
    "with open('/Users/oleksandraaliyeva/.secret/yelp_api.json') as f: \n",
    "    login = json.load(f)\n",
    "#instantiate YelpAPI variable\n",
    "yelp_api = YelpAPI(login['api-key'], timeout_s=5.0)"
   ]
  },
  {
   "cell_type": "code",
   "execution_count": 22,
   "id": "e3b6b0ad",
   "metadata": {},
   "outputs": [],
   "source": [
    "#set API call parameters and filename before the first call\n",
    "LOCATION = 'Boston, MA, 02101'\n",
    "TERM = 'Sushi'"
   ]
  },
  {
   "cell_type": "code",
   "execution_count": 23,
   "id": "4d6700f6",
   "metadata": {},
   "outputs": [
    {
     "data": {
      "text/plain": [
       "'Yelp/results_in_progress_Sushi.json'"
      ]
     },
     "execution_count": 23,
     "metadata": {},
     "output_type": "execute_result"
    }
   ],
   "source": [
    "#specifying JSON_FILE filename\n",
    "JSON_FILE = f'Data/results_in_progress_Sushi.json'\n",
    "JSON_FILE "
   ]
  },
  {
   "cell_type": "code",
   "execution_count": 24,
   "id": "7a5016f1",
   "metadata": {},
   "outputs": [
    {
     "name": "stdout",
     "output_type": "stream",
     "text": [
      "[i] Yelp/results_in_progress_Sushi.json not found. Saving empty list to file.\n"
     ]
    }
   ],
   "source": [
    "#check if JSON_FILE exists\n",
    "file_exists = os.path.isfile(JSON_FILE)\n",
    "#if it does not exist: \n",
    "if file_exists == False:\n",
    "    folder = os.path.dirname(JSON_FILE)\n",
    "    #if JSON_FILE included a folder:\n",
    "    if len(folder)>0:\n",
    "    #create the folder\n",
    "        os.makedirs(folder, exist_ok = True)\n",
    "    \n",
    "     #INFORM USER AND SAVE EMPTY LIST\n",
    "    print(f\"[i] {JSON_FILE} not found. Saving empty list to file.\")\n",
    "    \n",
    "     #save the first page of results\n",
    "    with open(JSON_FILE,'w') as f:\n",
    "        json.dump([],f)  \n",
    "#if it exists, inform user\n",
    "else:\n",
    "    print(f\"[i] {JSON_FILE} already exists.\")"
   ]
  },
  {
   "cell_type": "code",
   "execution_count": 25,
   "id": "fc80b621",
   "metadata": {},
   "outputs": [
    {
     "name": "stdout",
     "output_type": "stream",
     "text": [
      "- 0 previous results found.\n"
     ]
    }
   ],
   "source": [
    "#load previous results and use len of results for offset\n",
    "with open (JSON_FILE,'r') as f:\n",
    "    previous_results = json.load(f)\n",
    "    \n",
    "#set offset based on previous results\n",
    "n_results = len(previous_results)\n",
    "print(f'- {n_results} previous results found.')"
   ]
  },
  {
   "cell_type": "code",
   "execution_count": 26,
   "id": "a5a1b7fe",
   "metadata": {},
   "outputs": [
    {
     "data": {
      "text/plain": [
       "dict_keys(['businesses', 'total', 'region'])"
      ]
     },
     "execution_count": 26,
     "metadata": {},
     "output_type": "execute_result"
    }
   ],
   "source": [
    "#use yelp_api variable's search_query method to perform our API call\n",
    "results = yelp_api.search_query(location=LOCATION,\n",
    "                               term=TERM,\n",
    "                               offset=n_results+1)\n",
    "results.keys()"
   ]
  },
  {
   "cell_type": "code",
   "execution_count": 27,
   "id": "d19331ae",
   "metadata": {},
   "outputs": [
    {
     "data": {
      "text/plain": [
       "640"
      ]
     },
     "execution_count": 27,
     "metadata": {},
     "output_type": "execute_result"
    }
   ],
   "source": [
    "#how many results total?\n",
    "total_results = results['total']\n",
    "total_results"
   ]
  },
  {
   "cell_type": "code",
   "execution_count": 28,
   "id": "ab59d658",
   "metadata": {},
   "outputs": [
    {
     "data": {
      "text/plain": [
       "20"
      ]
     },
     "execution_count": 28,
     "metadata": {},
     "output_type": "execute_result"
    }
   ],
   "source": [
    "#how many did we get the details for?\n",
    "results_per_page = len(results['businesses'])\n",
    "results_per_page"
   ]
  },
  {
   "cell_type": "code",
   "execution_count": 29,
   "id": "fa67419e",
   "metadata": {},
   "outputs": [
    {
     "data": {
      "text/plain": [
       "32"
      ]
     },
     "execution_count": 29,
     "metadata": {},
     "output_type": "execute_result"
    }
   ],
   "source": [
    "#use math.ceil to round up for the total number of pages of results.\n",
    "n_pages = math.ceil((results['total']-n_results)/results_per_page)\n",
    "n_pages"
   ]
  },
  {
   "cell_type": "code",
   "execution_count": 30,
   "id": "b6034adb",
   "metadata": {},
   "outputs": [],
   "source": [
    "#join new results with old list with extend and save to file\n",
    "previous_results.extend(results['businesses'])\n",
    "with open(JSON_FILE,'w') as f:\n",
    "    json.dump(previous_results,f)"
   ]
  },
  {
   "cell_type": "code",
   "execution_count": 31,
   "id": "3398befb",
   "metadata": {},
   "outputs": [
    {
     "data": {
      "application/vnd.jupyter.widget-view+json": {
       "model_id": "2c28cf87c6e6463282b724d391070474",
       "version_major": 2,
       "version_minor": 0
      },
      "text/plain": [
       "  0%|          | 0/32 [00:00<?, ?it/s]"
      ]
     },
     "metadata": {},
     "output_type": "display_data"
    }
   ],
   "source": [
    "for i in tqdm_notebook( range(1,n_pages+1)):\n",
    "    time.sleep(.2)\n",
    "    #read in results in progress file and check the length\n",
    "    with open(JSON_FILE, 'r') as f:\n",
    "        previous_results = json.load(f)\n",
    "    #save number of results for to use as offset\n",
    "    n_results = len(previous_results)\n",
    "    #use n_results as the OFFSET \n",
    "    results = yelp_api.search_query(location=LOCATION,\n",
    "                                    term=TERM, \n",
    "                                    offset=n_results+1)\n",
    "    \n",
    "    #append new results and save to file\n",
    "    previous_results.extend(results['businesses'])\n",
    "    \n",
    "    #display(previous_results)\n",
    "    with open(JSON_FILE,'w') as f:\n",
    "        json.dump(previous_results,f)"
   ]
  },
  {
   "cell_type": "code",
   "execution_count": 32,
   "id": "d2dbe587",
   "metadata": {},
   "outputs": [
    {
     "data": {
      "text/html": [
       "<div>\n",
       "<style scoped>\n",
       "    .dataframe tbody tr th:only-of-type {\n",
       "        vertical-align: middle;\n",
       "    }\n",
       "\n",
       "    .dataframe tbody tr th {\n",
       "        vertical-align: top;\n",
       "    }\n",
       "\n",
       "    .dataframe thead th {\n",
       "        text-align: right;\n",
       "    }\n",
       "</style>\n",
       "<table border=\"1\" class=\"dataframe\">\n",
       "  <thead>\n",
       "    <tr style=\"text-align: right;\">\n",
       "      <th></th>\n",
       "      <th>id</th>\n",
       "      <th>alias</th>\n",
       "      <th>name</th>\n",
       "      <th>image_url</th>\n",
       "      <th>is_closed</th>\n",
       "      <th>url</th>\n",
       "      <th>review_count</th>\n",
       "      <th>categories</th>\n",
       "      <th>rating</th>\n",
       "      <th>coordinates</th>\n",
       "      <th>transactions</th>\n",
       "      <th>price</th>\n",
       "      <th>location</th>\n",
       "      <th>phone</th>\n",
       "      <th>display_phone</th>\n",
       "      <th>distance</th>\n",
       "    </tr>\n",
       "  </thead>\n",
       "  <tbody>\n",
       "    <tr>\n",
       "      <th>0</th>\n",
       "      <td>E3Qqa99qFy1oeGMv0wPBBQ</td>\n",
       "      <td>tora-japanese-restaurant-boston</td>\n",
       "      <td>Tora Japanese Restaurant</td>\n",
       "      <td>https://s3-media3.fl.yelpcdn.com/bphoto/ZdaYpg...</td>\n",
       "      <td>False</td>\n",
       "      <td>https://www.yelp.com/biz/tora-japanese-restaur...</td>\n",
       "      <td>553</td>\n",
       "      <td>[{'alias': 'japanese', 'title': 'Japanese'}, {...</td>\n",
       "      <td>4.5</td>\n",
       "      <td>{'latitude': 42.35076, 'longitude': -71.06054}</td>\n",
       "      <td>[pickup, delivery]</td>\n",
       "      <td>$$</td>\n",
       "      <td>{'address1': '20B Tyler St', 'address2': None,...</td>\n",
       "      <td>+16175426688</td>\n",
       "      <td>(617) 542-6688</td>\n",
       "      <td>934.549817</td>\n",
       "    </tr>\n",
       "    <tr>\n",
       "      <th>1</th>\n",
       "      <td>baoHJnYFntDUICr10aFj8Q</td>\n",
       "      <td>sakana-cambridge-2</td>\n",
       "      <td>Sakana</td>\n",
       "      <td>https://s3-media1.fl.yelpcdn.com/bphoto/wb4xhJ...</td>\n",
       "      <td>False</td>\n",
       "      <td>https://www.yelp.com/biz/sakana-cambridge-2?ad...</td>\n",
       "      <td>242</td>\n",
       "      <td>[{'alias': 'sushi', 'title': 'Sushi Bars'}, {'...</td>\n",
       "      <td>4.5</td>\n",
       "      <td>{'latitude': 42.3693, 'longitude': -71.11082}</td>\n",
       "      <td>[pickup, delivery]</td>\n",
       "      <td>$$</td>\n",
       "      <td>{'address1': '983 Massachusetts Ave', 'address...</td>\n",
       "      <td>+16177144646</td>\n",
       "      <td>(617) 714-4646</td>\n",
       "      <td>4030.346045</td>\n",
       "    </tr>\n",
       "    <tr>\n",
       "      <th>2</th>\n",
       "      <td>Z6Io2AbJrof7TPVliMZkAg</td>\n",
       "      <td>fuji-at-ink-block-boston</td>\n",
       "      <td>Fuji at Ink Block</td>\n",
       "      <td>https://s3-media2.fl.yelpcdn.com/bphoto/xhHJpc...</td>\n",
       "      <td>False</td>\n",
       "      <td>https://www.yelp.com/biz/fuji-at-ink-block-bos...</td>\n",
       "      <td>543</td>\n",
       "      <td>[{'alias': 'japanese', 'title': 'Japanese'}, {...</td>\n",
       "      <td>4.5</td>\n",
       "      <td>{'latitude': 42.345077, 'longitude': -71.063505}</td>\n",
       "      <td>[pickup, delivery, restaurant_reservation]</td>\n",
       "      <td>$$</td>\n",
       "      <td>{'address1': '352 Harrison Ave', 'address2': '...</td>\n",
       "      <td>+16179363282</td>\n",
       "      <td>(617) 936-3282</td>\n",
       "      <td>706.357329</td>\n",
       "    </tr>\n",
       "  </tbody>\n",
       "</table>\n",
       "</div>"
      ],
      "text/plain": [
       "                       id                            alias  \\\n",
       "0  E3Qqa99qFy1oeGMv0wPBBQ  tora-japanese-restaurant-boston   \n",
       "1  baoHJnYFntDUICr10aFj8Q               sakana-cambridge-2   \n",
       "2  Z6Io2AbJrof7TPVliMZkAg         fuji-at-ink-block-boston   \n",
       "\n",
       "                       name  \\\n",
       "0  Tora Japanese Restaurant   \n",
       "1                    Sakana   \n",
       "2         Fuji at Ink Block   \n",
       "\n",
       "                                           image_url  is_closed  \\\n",
       "0  https://s3-media3.fl.yelpcdn.com/bphoto/ZdaYpg...      False   \n",
       "1  https://s3-media1.fl.yelpcdn.com/bphoto/wb4xhJ...      False   \n",
       "2  https://s3-media2.fl.yelpcdn.com/bphoto/xhHJpc...      False   \n",
       "\n",
       "                                                 url  review_count  \\\n",
       "0  https://www.yelp.com/biz/tora-japanese-restaur...           553   \n",
       "1  https://www.yelp.com/biz/sakana-cambridge-2?ad...           242   \n",
       "2  https://www.yelp.com/biz/fuji-at-ink-block-bos...           543   \n",
       "\n",
       "                                          categories  rating  \\\n",
       "0  [{'alias': 'japanese', 'title': 'Japanese'}, {...     4.5   \n",
       "1  [{'alias': 'sushi', 'title': 'Sushi Bars'}, {'...     4.5   \n",
       "2  [{'alias': 'japanese', 'title': 'Japanese'}, {...     4.5   \n",
       "\n",
       "                                        coordinates  \\\n",
       "0    {'latitude': 42.35076, 'longitude': -71.06054}   \n",
       "1     {'latitude': 42.3693, 'longitude': -71.11082}   \n",
       "2  {'latitude': 42.345077, 'longitude': -71.063505}   \n",
       "\n",
       "                                 transactions price  \\\n",
       "0                          [pickup, delivery]    $$   \n",
       "1                          [pickup, delivery]    $$   \n",
       "2  [pickup, delivery, restaurant_reservation]    $$   \n",
       "\n",
       "                                            location         phone  \\\n",
       "0  {'address1': '20B Tyler St', 'address2': None,...  +16175426688   \n",
       "1  {'address1': '983 Massachusetts Ave', 'address...  +16177144646   \n",
       "2  {'address1': '352 Harrison Ave', 'address2': '...  +16179363282   \n",
       "\n",
       "    display_phone     distance  \n",
       "0  (617) 542-6688   934.549817  \n",
       "1  (617) 714-4646  4030.346045  \n",
       "2  (617) 936-3282   706.357329  "
      ]
     },
     "metadata": {},
     "output_type": "display_data"
    },
    {
     "data": {
      "text/html": [
       "<div>\n",
       "<style scoped>\n",
       "    .dataframe tbody tr th:only-of-type {\n",
       "        vertical-align: middle;\n",
       "    }\n",
       "\n",
       "    .dataframe tbody tr th {\n",
       "        vertical-align: top;\n",
       "    }\n",
       "\n",
       "    .dataframe thead th {\n",
       "        text-align: right;\n",
       "    }\n",
       "</style>\n",
       "<table border=\"1\" class=\"dataframe\">\n",
       "  <thead>\n",
       "    <tr style=\"text-align: right;\">\n",
       "      <th></th>\n",
       "      <th>id</th>\n",
       "      <th>alias</th>\n",
       "      <th>name</th>\n",
       "      <th>image_url</th>\n",
       "      <th>is_closed</th>\n",
       "      <th>url</th>\n",
       "      <th>review_count</th>\n",
       "      <th>categories</th>\n",
       "      <th>rating</th>\n",
       "      <th>coordinates</th>\n",
       "      <th>transactions</th>\n",
       "      <th>price</th>\n",
       "      <th>location</th>\n",
       "      <th>phone</th>\n",
       "      <th>display_phone</th>\n",
       "      <th>distance</th>\n",
       "    </tr>\n",
       "  </thead>\n",
       "  <tbody>\n",
       "    <tr>\n",
       "      <th>636</th>\n",
       "      <td>tZV72RPEG2E24uFulcGjVg</td>\n",
       "      <td>star-market-auburndale</td>\n",
       "      <td>Star Market</td>\n",
       "      <td>https://s3-media4.fl.yelpcdn.com/bphoto/p4SlaX...</td>\n",
       "      <td>False</td>\n",
       "      <td>https://www.yelp.com/biz/star-market-auburndal...</td>\n",
       "      <td>40</td>\n",
       "      <td>[{'alias': 'grocery', 'title': 'Grocery'}]</td>\n",
       "      <td>2.0</td>\n",
       "      <td>{'latitude': 42.3467438, 'longitude': -71.2447...</td>\n",
       "      <td>[delivery]</td>\n",
       "      <td>$$</td>\n",
       "      <td>{'address1': '2040 Commonwealth Ave', 'address...</td>\n",
       "      <td>+16179651793</td>\n",
       "      <td>(617) 965-1793</td>\n",
       "      <td>14258.843346</td>\n",
       "    </tr>\n",
       "    <tr>\n",
       "      <th>637</th>\n",
       "      <td>m6ZCINThm8PwkK91qJcrPw</td>\n",
       "      <td>trader-joes-arlington</td>\n",
       "      <td>Trader Joe's</td>\n",
       "      <td>https://s3-media1.fl.yelpcdn.com/bphoto/KwDTvS...</td>\n",
       "      <td>False</td>\n",
       "      <td>https://www.yelp.com/biz/trader-joes-arlington...</td>\n",
       "      <td>96</td>\n",
       "      <td>[{'alias': 'grocery', 'title': 'Grocery'}]</td>\n",
       "      <td>3.5</td>\n",
       "      <td>{'latitude': 42.4254178, 'longitude': -71.1888...</td>\n",
       "      <td>[]</td>\n",
       "      <td>$$</td>\n",
       "      <td>{'address1': '1427 Massachusetts Ave', 'addres...</td>\n",
       "      <td>+17816469138</td>\n",
       "      <td>(781) 646-9138</td>\n",
       "      <td>12948.424375</td>\n",
       "    </tr>\n",
       "    <tr>\n",
       "      <th>638</th>\n",
       "      <td>MpfauJengAZHTzoIkwP_yw</td>\n",
       "      <td>the-cheesecake-factory-burlington</td>\n",
       "      <td>The Cheesecake Factory</td>\n",
       "      <td>https://s3-media1.fl.yelpcdn.com/bphoto/95h89v...</td>\n",
       "      <td>False</td>\n",
       "      <td>https://www.yelp.com/biz/the-cheesecake-factor...</td>\n",
       "      <td>529</td>\n",
       "      <td>[{'alias': 'desserts', 'title': 'Desserts'}, {...</td>\n",
       "      <td>3.0</td>\n",
       "      <td>{'latitude': 42.4822898, 'longitude': -71.2135...</td>\n",
       "      <td>[delivery, restaurant_reservation]</td>\n",
       "      <td>$$</td>\n",
       "      <td>{'address1': '75 Middlesex Turnpike', 'address...</td>\n",
       "      <td>+17812730060</td>\n",
       "      <td>(781) 273-0060</td>\n",
       "      <td>18972.757453</td>\n",
       "    </tr>\n",
       "  </tbody>\n",
       "</table>\n",
       "</div>"
      ],
      "text/plain": [
       "                         id                              alias  \\\n",
       "636  tZV72RPEG2E24uFulcGjVg             star-market-auburndale   \n",
       "637  m6ZCINThm8PwkK91qJcrPw              trader-joes-arlington   \n",
       "638  MpfauJengAZHTzoIkwP_yw  the-cheesecake-factory-burlington   \n",
       "\n",
       "                       name  \\\n",
       "636             Star Market   \n",
       "637            Trader Joe's   \n",
       "638  The Cheesecake Factory   \n",
       "\n",
       "                                             image_url  is_closed  \\\n",
       "636  https://s3-media4.fl.yelpcdn.com/bphoto/p4SlaX...      False   \n",
       "637  https://s3-media1.fl.yelpcdn.com/bphoto/KwDTvS...      False   \n",
       "638  https://s3-media1.fl.yelpcdn.com/bphoto/95h89v...      False   \n",
       "\n",
       "                                                   url  review_count  \\\n",
       "636  https://www.yelp.com/biz/star-market-auburndal...            40   \n",
       "637  https://www.yelp.com/biz/trader-joes-arlington...            96   \n",
       "638  https://www.yelp.com/biz/the-cheesecake-factor...           529   \n",
       "\n",
       "                                            categories  rating  \\\n",
       "636         [{'alias': 'grocery', 'title': 'Grocery'}]     2.0   \n",
       "637         [{'alias': 'grocery', 'title': 'Grocery'}]     3.5   \n",
       "638  [{'alias': 'desserts', 'title': 'Desserts'}, {...     3.0   \n",
       "\n",
       "                                           coordinates  \\\n",
       "636  {'latitude': 42.3467438, 'longitude': -71.2447...   \n",
       "637  {'latitude': 42.4254178, 'longitude': -71.1888...   \n",
       "638  {'latitude': 42.4822898, 'longitude': -71.2135...   \n",
       "\n",
       "                           transactions price  \\\n",
       "636                          [delivery]    $$   \n",
       "637                                  []    $$   \n",
       "638  [delivery, restaurant_reservation]    $$   \n",
       "\n",
       "                                              location         phone  \\\n",
       "636  {'address1': '2040 Commonwealth Ave', 'address...  +16179651793   \n",
       "637  {'address1': '1427 Massachusetts Ave', 'addres...  +17816469138   \n",
       "638  {'address1': '75 Middlesex Turnpike', 'address...  +17812730060   \n",
       "\n",
       "      display_phone      distance  \n",
       "636  (617) 965-1793  14258.843346  \n",
       "637  (781) 646-9138  12948.424375  \n",
       "638  (781) 273-0060  18972.757453  "
      ]
     },
     "metadata": {},
     "output_type": "display_data"
    }
   ],
   "source": [
    "#load final results\n",
    "final_df = pd.read_json(JSON_FILE)\n",
    "display(final_df.head(3), final_df.tail(3))"
   ]
  },
  {
   "cell_type": "code",
   "execution_count": 33,
   "id": "887ac778",
   "metadata": {},
   "outputs": [
    {
     "data": {
      "text/plain": [
       "1"
      ]
     },
     "execution_count": 33,
     "metadata": {},
     "output_type": "execute_result"
    }
   ],
   "source": [
    "#check for duplicate IDs\n",
    "final_df.duplicated(subset='id').sum()"
   ]
  },
  {
   "cell_type": "code",
   "execution_count": 34,
   "id": "2a2ab861",
   "metadata": {},
   "outputs": [],
   "source": [
    "final_df.drop_duplicates(subset='id', keep='first', inplace = True)"
   ]
  },
  {
   "cell_type": "code",
   "execution_count": 35,
   "id": "99f37a3f",
   "metadata": {},
   "outputs": [
    {
     "data": {
      "text/plain": [
       "0"
      ]
     },
     "execution_count": 35,
     "metadata": {},
     "output_type": "execute_result"
    }
   ],
   "source": [
    "final_df.duplicated(subset='id').sum()"
   ]
  },
  {
   "cell_type": "code",
   "execution_count": 36,
   "id": "67240763",
   "metadata": {},
   "outputs": [],
   "source": [
    "# save the final results to a compressed csv\n",
    "final_df.to_csv('Yelp/final_results_sushi.csv',\n",
    "                index=False)"
   ]
  }
 ],
 "metadata": {
  "kernelspec": {
   "display_name": "Python (dojo-env)",
   "language": "python",
   "name": "dojo-env"
  },
  "language_info": {
   "codemirror_mode": {
    "name": "ipython",
    "version": 3
   },
   "file_extension": ".py",
   "mimetype": "text/x-python",
   "name": "python",
   "nbconvert_exporter": "python",
   "pygments_lexer": "ipython3",
   "version": "3.7.12"
  },
  "toc": {
   "base_numbering": 1,
   "nav_menu": {},
   "number_sections": true,
   "sideBar": true,
   "skip_h1_title": false,
   "title_cell": "Table of Contents",
   "title_sidebar": "Contents",
   "toc_cell": false,
   "toc_position": {},
   "toc_section_display": true,
   "toc_window_display": false
  }
 },
 "nbformat": 4,
 "nbformat_minor": 5
}
